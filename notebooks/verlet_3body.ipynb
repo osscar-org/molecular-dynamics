{
 "cells": [
  {
   "cell_type": "markdown",
   "metadata": {},
   "source": [
    "# **Verlet integration for three body system**"
   ]
  },
  {
   "cell_type": "code",
   "execution_count": 1,
   "metadata": {},
   "outputs": [],
   "source": [
    "import numpy as np\n",
    "import matplotlib.pyplot as plt\n",
    "from matplotlib.animation import FuncAnimation\n",
    "from ipywidgets import Button, IntSlider"
   ]
  },
  {
   "cell_type": "code",
   "execution_count": 2,
   "metadata": {},
   "outputs": [],
   "source": [
    "def compute_force(ra, rb, ma, mb):\n",
    "    x = G*ma*mb/np.linalg.norm(ra-rb)**2\n",
    "    v = (rb-ra)/np.linalg.norm(rb-ra)\n",
    "    return x*v"
   ]
  },
  {
   "cell_type": "code",
   "execution_count": 3,
   "metadata": {},
   "outputs": [],
   "source": [
    "def compute_acceleration(f, m):\n",
    "    return f/m"
   ]
  },
  {
   "cell_type": "code",
   "execution_count": 4,
   "metadata": {},
   "outputs": [],
   "source": [
    "def verlet_update(r1, r2, r3, m1, m2, m3, dt):\n",
    "    f1 = compute_force(r1[-1], r2, m1, m2) + compute_force(r1[-1], r3[-1], m1, m3)\n",
    "    a1 = compute_acceleration(f1, m1)\n",
    "    \n",
    "    rn1 = 2.0*r1[-1] - r1[-2]  + dt*dt*a1\n",
    "    \n",
    "    r1[-2] = r1[-1]\n",
    "    r1[-1] = rn1\n",
    "    \n",
    "    f3 = compute_force(r3[-1], r2, m3, m2) + compute_force(r3[-1], r1[-1], m3, m1)\n",
    "    a3 = compute_acceleration(f3, m3)\n",
    "    \n",
    "    rn3 = 2.0*r3[-1] - r3[-2]  + dt*dt*a3\n",
    "    \n",
    "    r3[-2] = r3[-1]\n",
    "    r3[-1] = rn3\n",
    "    \n",
    "    return r1, r3\n",
    "    \n",
    "    #return np.append(r1, [rn], axis=0), vn\n",
    "  "
   ]
  },
  {
   "cell_type": "code",
   "execution_count": 5,
   "metadata": {},
   "outputs": [
    {
     "data": {
      "application/vnd.jupyter.widget-view+json": {
       "model_id": "778fd2e251ca4a33a24718c9304b9ee7",
       "version_major": 2,
       "version_minor": 0
      },
      "text/plain": [
       "Canvas(toolbar=Toolbar(toolitems=[('Home', 'Reset original view', 'home', 'home'), ('Back', 'Back to previous …"
      ]
     },
     "metadata": {},
     "output_type": "display_data"
    },
    {
     "data": {
      "application/vnd.jupyter.widget-view+json": {
       "model_id": "d9c0eff10eb347259475ac10b16f8ef5",
       "version_major": 2,
       "version_minor": 0
      },
      "text/plain": [
       "IntSlider(value=1, description='dt: ', max=20, min=1)"
      ]
     },
     "metadata": {},
     "output_type": "display_data"
    },
    {
     "data": {
      "application/vnd.jupyter.widget-view+json": {
       "model_id": "6ab045d5e59f430eb3227c38b8d3e3e6",
       "version_major": 2,
       "version_minor": 0
      },
      "text/plain": [
       "Button(description='Pause', style=ButtonStyle())"
      ]
     },
     "metadata": {},
     "output_type": "display_data"
    }
   ],
   "source": [
    "%matplotlib widget\n",
    "\n",
    "m1 = 1.0\n",
    "m2 = 1000.0\n",
    "m3 = 0.5\n",
    "G = 0.2\n",
    "v1 = 3.0\n",
    "v3 = 3.0\n",
    "dt = 0.01\n",
    "\n",
    "r1 = np.array([[10, 0],[10.0, v1*dt]])\n",
    "r2 = np.array([0, 0])\n",
    "r3 = np.array([[11, 0],[11.0, v3*dt]])\n",
    "\n",
    "\n",
    "import numpy as np\n",
    "import matplotlib.pyplot as plt\n",
    "\n",
    "fig, ax = plt.subplots()\n",
    "fig.canvas.header_visible = False\n",
    "\n",
    "sun = plt.scatter([0.0],[0.0], s=23**2, \n",
    "               marker=\"o\", linewidth=0, color='gold', label = 'Sun')\n",
    "earth, = plt.plot([10.0],[0.0], 'r.', alpha = 1.0, markersize=15, label = 'Earth')\n",
    "moon, = plt.plot([11.0],[0.0], 'b.', alpha = 1.0, markersize=10, label = 'Moon')\n",
    "\n",
    "origin = plt.plot([10.0],[0.0], 'kx', alpha = 1.0, markersize=15, label = 'Origin point')\n",
    "\n",
    "plt.legend(loc=2, fontsize=12)\n",
    "\n",
    "plt.xlim(-8.0, 15.0)\n",
    "plt.ylim(-11.0, 11.0)\n",
    "plt.grid()\n",
    "\n",
    "def init():\n",
    "    return (earth, moon)\n",
    "\n",
    "    \n",
    "def update(i):\n",
    "    global r1, r3\n",
    "    r1, r3 = verlet_update(r1, r2, r3, m1, m2, m3, dt)\n",
    "\n",
    "    earth.set_data([r1[-1, 0]], [r1[-1, 1]])\n",
    "    moon.set_data([r3[-1, 0]], [r3[-1, 1]])\n",
    "    \n",
    "    return (earth, moon)\n",
    "\n",
    "\n",
    "anim = FuncAnimation(fig, update, frames = 2000, interval = 10,\n",
    "                    init_func=init, blit=True)\n",
    "\n",
    "\n",
    "def onClick(event):\n",
    "    if button_pause.description == \"Pause\":\n",
    "        button_pause.description = \"Play\"\n",
    "        anim.event_source.stop()\n",
    "    else:\n",
    "        button_pause.description = \"Pause\"\n",
    "        anim.event_source.start()\n",
    "        \n",
    "button_pause = Button(description=\"Pause\");\n",
    "button_pause.on_click(onClick)\n",
    "\n",
    "plt.show()\n",
    "\n",
    "def on_dt_change(c):\n",
    "    global dt, r1, r3\n",
    "    \n",
    "    anim.event_source.stop()\n",
    "    \n",
    "    dt = w_dt.value*0.01\n",
    "    r1 = np.array([[10, 0],[10.0, v1*dt]])\n",
    "    r3 = np.array([[11, 0],[11.0, v3*dt]])\n",
    "    \n",
    "    anim.event_source.start()\n",
    "\n",
    "w_dt = IntSlider(value = 1, min = 1, max = 20, step=1, description=\"dt: \")\n",
    "w_dt.observe(on_dt_change, names='value')\n",
    "\n",
    "display(w_dt, button_pause)"
   ]
  }
 ],
 "metadata": {
  "kernelspec": {
   "display_name": "Python 3",
   "language": "python",
   "name": "python3"
  },
  "language_info": {
   "codemirror_mode": {
    "name": "ipython",
    "version": 3
   },
   "file_extension": ".py",
   "mimetype": "text/x-python",
   "name": "python",
   "nbconvert_exporter": "python",
   "pygments_lexer": "ipython3",
   "version": "3.7.6"
  }
 },
 "nbformat": 4,
 "nbformat_minor": 4
}
